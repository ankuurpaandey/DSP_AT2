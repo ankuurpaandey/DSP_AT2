{
  "nbformat": 4,
  "nbformat_minor": 0,
  "metadata": {
    "kernelspec": {
      "display_name": "Python 3",
      "language": "python",
      "name": "python3"
    },
    "language_info": {
      "codemirror_mode": {
        "name": "ipython",
        "version": 3
      },
      "file_extension": ".py",
      "mimetype": "text/x-python",
      "name": "python",
      "nbconvert_exporter": "python",
      "pygments_lexer": "ipython3",
      "version": "3.7.6"
    },
    "toc-autonumbering": true,
    "toc-showmarkdowntxt": false,
    "toc-showtags": false,
    "colab": {
      "name": "DSP_AT2_Group_Data_Analysis.ipynb",
      "provenance": [],
      "collapsed_sections": [],
      "toc_visible": true,
      "machine_shape": "hm",
      "include_colab_link": true
    }
  },
  "cells": [
    {
      "cell_type": "markdown",
      "metadata": {
        "id": "view-in-github",
        "colab_type": "text"
      },
      "source": [
        "<a href=\"https://colab.research.google.com/github/Kallikrates/DSP_AT2/blob/master/DSP_AT2_Group_Data_Analysis.ipynb\" target=\"_parent\"><img src=\"https://colab.research.google.com/assets/colab-badge.svg\" alt=\"Open In Colab\"/></a>"
      ]
    },
    {
      "cell_type": "markdown",
      "metadata": {
        "id": "FYk_6cYHg6az",
        "colab_type": "text"
      },
      "source": [
        "#**DSP AT2 Centralized Code Repositories + Github Usage Analysis + Reflection**\n",
        "\n"
      ]
    },
    {
      "cell_type": "markdown",
      "metadata": {
        "colab_type": "text",
        "id": "DOWJVxfeQzmz"
      },
      "source": [
        "## **Preprocessing**"
      ]
    },
    {
      "cell_type": "markdown",
      "metadata": {
        "id": "RYEnR_Scii7m",
        "colab_type": "text"
      },
      "source": [
        "### **Load Packages**"
      ]
    },
    {
      "cell_type": "code",
      "metadata": {
        "id": "iUWHLHp72zdM",
        "colab_type": "code",
        "colab": {}
      },
      "source": [
        "# Data packages\n",
        "import pandas as pd      \n",
        "import numpy as np  \n",
        "import matplotlib.pyplot as plt\n",
        "import os"
      ],
      "execution_count": null,
      "outputs": []
    },
    {
      "cell_type": "markdown",
      "metadata": {
        "id": "62p2PXNrnE0S",
        "colab_type": "text"
      },
      "source": [
        "### **Get data**"
      ]
    },
    {
      "cell_type": "markdown",
      "metadata": {
        "id": "twxyXDVqfoI5",
        "colab_type": "text"
      },
      "source": [
        "Download or connect to data source."
      ]
    },
    {
      "cell_type": "code",
      "metadata": {
        "id": "5ks5r03lhz14",
        "colab_type": "code",
        "colab": {}
      },
      "source": [
        ""
      ],
      "execution_count": null,
      "outputs": []
    },
    {
      "cell_type": "markdown",
      "metadata": {
        "colab_type": "text",
        "id": "iONktfRr-juY"
      },
      "source": [
        "### **Process data**"
      ]
    },
    {
      "cell_type": "code",
      "metadata": {
        "id": "p_CKNiGkrNWp",
        "colab_type": "code",
        "colab": {}
      },
      "source": [
        ""
      ],
      "execution_count": null,
      "outputs": []
    },
    {
      "cell_type": "markdown",
      "metadata": {
        "id": "tlVjngOrimLc",
        "colab_type": "text"
      },
      "source": [
        "### **Check Data**"
      ]
    },
    {
      "cell_type": "code",
      "metadata": {
        "id": "Ti4jx80rrQEr",
        "colab_type": "code",
        "colab": {}
      },
      "source": [
        ""
      ],
      "execution_count": null,
      "outputs": []
    },
    {
      "cell_type": "markdown",
      "metadata": {
        "id": "IY8na0mB0b--",
        "colab_type": "text"
      },
      "source": [
        "# **Analysis**"
      ]
    },
    {
      "cell_type": "code",
      "metadata": {
        "id": "3qNUyluAraGF",
        "colab_type": "code",
        "colab": {}
      },
      "source": [
        ""
      ],
      "execution_count": null,
      "outputs": []
    }
  ]
}