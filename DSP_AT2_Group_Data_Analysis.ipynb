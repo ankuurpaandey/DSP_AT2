{
 "cells": [
  {
   "cell_type": "markdown",
   "metadata": {
    "id": "FYk_6cYHg6az"
   },
   "source": [
    "#**DSP AT2 Centralized Code Repositories + Github Usage Analysis + Reflection**\n",
    "\n"
   ]
  },
  {
   "cell_type": "markdown",
   "metadata": {
    "id": "DOWJVxfeQzmz"
   },
   "source": [
    "## **Preprocessing**"
   ]
  },
  {
   "cell_type": "markdown",
   "metadata": {
    "id": "RYEnR_Scii7m"
   },
   "source": [
    "### **Load Packages**"
   ]
  },
  {
   "cell_type": "code",
   "execution_count": null,
   "metadata": {
    "id": "iUWHLHp72zdM"
   },
   "outputs": [],
   "source": [
    "# Data packages\n",
    "import pandas as pd      \n",
    "import numpy as np  \n",
    "import matplotlib.pyplot as plt\n",
    "import os\n",
    "import psycopg2\n",
    "import sqlalchemy"
   ]
  },
  {
   "cell_type": "markdown",
   "metadata": {
    "id": "62p2PXNrnE0S"
   },
   "source": [
    "### **Get raw data**"
   ]
  },
  {
   "cell_type": "code",
   "execution_count": null,
   "metadata": {
    "id": "5ks5r03lhz14"
   },
   "outputs": [],
   "source": [
    "# Create data directory\n",
    "if not os.path.exists('/content/kaggle'):\n",
    "    os.makedirs('/content/kaggle')\n",
    "\n",
    "if not os.path.exists('/content/output'):\n",
    "    os.makedirs('/content/output')\n",
    "    \n",
    "# Download data from Kaggle API, unzip and place in data directory\n",
    "os.environ['KAGGLE_USERNAME'] = \"kallikrates\"\n",
    "os.environ['KAGGLE_KEY'] = \"98fa396dc991259766a1529a2e4001ac\"\n",
    "!kaggle datasets download -d kallikrates/dsp-at2-bitcoin-dataset\n",
    "!unzip -q dsp-at2-bitcoin-dataset.zip -d /content/kaggle"
   ]
  },
  {
   "cell_type": "markdown",
   "metadata": {
    "id": "iONktfRr-juY"
   },
   "source": [
    "### **Process data files for Database loading**"
   ]
  },
  {
   "cell_type": "markdown",
   "metadata": {
    "id": "ysZ5xjFvYXgF"
   },
   "source": [
    "#### **Reshape data and change structure to conform with Database**"
   ]
  },
  {
   "cell_type": "markdown",
   "metadata": {
    "id": "9Tbk-b4A-juc"
   },
   "source": [
    "**price: Transform file from wide to long, add table identifier dimension, and reorder columns**"
   ]
  },
  {
   "cell_type": "code",
   "execution_count": null,
   "metadata": {
    "id": "XyjDgIkn-juc"
   },
   "outputs": [],
   "source": [
    "price = pd.read_csv('/content/kaggle/Data_Bitcoin/price.csv', na_filter=False)\n",
    "price_transformed = price.melt(id_vars=['t'], var_name='Price_Type', value_name='Price')\n",
    "price_transformed.insert(3, 'Source', 'price')\n",
    "price_transformed = price_transformed[[\"t\", \"Price\", \"Price_Type\",\"Source\"]]"
   ]
  },
  {
   "cell_type": "markdown",
   "metadata": {
    "id": "t355Cik32T5n"
   },
   "source": [
    "#### **Change structure to conform with Database**"
   ]
  },
  {
   "cell_type": "markdown",
   "metadata": {
    "id": "M8koDDO2bsXc"
   },
   "source": [
    "**active-addresses: Add table identifier dimension**"
   ]
  },
  {
   "cell_type": "code",
   "execution_count": null,
   "metadata": {
    "id": "ORAqkoL_bsXd"
   },
   "outputs": [],
   "source": [
    "active_addresses = pd.read_csv('/content/kaggle/Data_Bitcoin/active-addresses.csv', na_filter=False)\n",
    "active_addresses.insert(2, 'Fact_Type', '')\n",
    "active_addresses.insert(3, 'Source', 'active_addresses')"
   ]
  },
  {
   "cell_type": "markdown",
   "metadata": {
    "id": "QSsXTDXZcO13"
   },
   "source": [
    "**addresses-with-balance-less than or qual to 0-01: Add table identifier dimension**"
   ]
  },
  {
   "cell_type": "code",
   "execution_count": null,
   "metadata": {
    "id": "R2eCvNu0cPMf"
   },
   "outputs": [],
   "source": [
    "addresses_bal_less = pd.read_csv('/content/kaggle/Data_Bitcoin/addresses-with-balance-less than or qual to 0-01.csv', na_filter=False)\n",
    "addresses_bal_less.insert(2, 'Fact_Type', '')\n",
    "addresses_bal_less.insert(3, 'Source', 'addresses_bal_less')"
   ]
  },
  {
   "cell_type": "markdown",
   "metadata": {
    "id": "PoOObMMycPDY"
   },
   "source": [
    "**exchange-net-flow-volume: Add table identifier dimension**"
   ]
  },
  {
   "cell_type": "code",
   "execution_count": null,
   "metadata": {
    "id": "X4b_6QtGcPDa"
   },
   "outputs": [],
   "source": [
    "ex_net_flow_vol = pd.read_csv('/content/kaggle/Data_Bitcoin/exchange-net-flow-volume.csv', na_filter=False)\n",
    "ex_net_flow_vol.insert(2, 'Fact_Type', '')\n",
    "ex_net_flow_vol.insert(3, 'Source', 'ex_net_flow_vol')"
   ]
  },
  {
   "cell_type": "markdown",
   "metadata": {
    "id": "LBwuDC3tcPMd"
   },
   "source": [
    "**hash_rate: Add table identifier dimension**"
   ]
  },
  {
   "cell_type": "code",
   "execution_count": null,
   "metadata": {
    "id": "_I_XPQxQcO17"
   },
   "outputs": [],
   "source": [
    "hash_rate = pd.read_csv('/content/kaggle/Data_Bitcoin/hash-rate.csv', na_filter=False)\n",
    "hash_rate.insert(2, 'Fact_Type', '')\n",
    "hash_rate.insert(3, 'Source', 'hash_rate')"
   ]
  },
  {
   "cell_type": "markdown",
   "metadata": {
    "id": "imiFxa0SdXyd"
   },
   "source": [
    "**market_cap: Add table identifier dimension**"
   ]
  },
  {
   "cell_type": "code",
   "execution_count": null,
   "metadata": {
    "id": "C5nAW2JkdXyj"
   },
   "outputs": [],
   "source": [
    "market_cap = pd.read_csv('/content/kaggle/Data_Bitcoin/market-cap.csv', na_filter=False)\n",
    "market_cap.insert(2, 'Fact_Type', '')\n",
    "market_cap.insert(3, 'Source', 'market_cap')"
   ]
  },
  {
   "cell_type": "markdown",
   "metadata": {
    "id": "5WGRBUfIdYRt"
   },
   "source": [
    "**new_addresses: Add table identifier dimension**"
   ]
  },
  {
   "cell_type": "code",
   "execution_count": null,
   "metadata": {
    "id": "dsNlBwZjdYRv"
   },
   "outputs": [],
   "source": [
    "new_addresses = pd.read_csv('/content/kaggle/Data_Bitcoin/new-addresses.csv', na_filter=False)\n",
    "new_addresses.insert(2, 'Fact_Type', '')\n",
    "new_addresses.insert(3, 'Source', 'new_addresses')"
   ]
  },
  {
   "cell_type": "markdown",
   "metadata": {
    "id": "1x8YYCE0eBV-"
   },
   "source": [
    "**transaction_count: Add table identifier dimension**"
   ]
  },
  {
   "cell_type": "code",
   "execution_count": null,
   "metadata": {
    "id": "arJIwWQKeBWC"
   },
   "outputs": [],
   "source": [
    "transaction_count = pd.read_csv('/content/kaggle/Data_Bitcoin/transaction-count.csv', na_filter=False)\n",
    "transaction_count.insert(2, 'Fact_Type', '')\n",
    "transaction_count.insert(3, 'Source', 'transaction_count')"
   ]
  },
  {
   "cell_type": "markdown",
   "metadata": {
    "id": "ABMBNcNEeM6w"
   },
   "source": [
    "**transaction_rate: Add table identifier dimension**"
   ]
  },
  {
   "cell_type": "code",
   "execution_count": null,
   "metadata": {
    "id": "BwGqEXxReM60"
   },
   "outputs": [],
   "source": [
    "transaction_rate = pd.read_csv('/content/kaggle/Data_Bitcoin/transaction-rate.csv', na_filter=False)\n",
    "transaction_rate.insert(2, 'Fact_Type', '')\n",
    "transaction_rate.insert(3, 'Source', 'transaction_rate')"
   ]
  },
  {
   "cell_type": "markdown",
   "metadata": {
    "id": "tjlwCWy5eaP3"
   },
   "source": [
    "**transfer_vol_total: Add table identifier dimension**"
   ]
  },
  {
   "cell_type": "code",
   "execution_count": null,
   "metadata": {
    "id": "lN1rIq9ceaP7"
   },
   "outputs": [],
   "source": [
    "transfer_vol_total = pd.read_csv('/content/kaggle/Data_Bitcoin/transfer-volume-total.csv', na_filter=False)\n",
    "transfer_vol_total.insert(2, 'Fact_Type', '')\n",
    "transfer_vol_total.insert(3, 'Source', 'transfer_vol_total')"
   ]
  },
  {
   "cell_type": "markdown",
   "metadata": {
    "id": "dgNpkq6WanWY"
   },
   "source": [
    "**Rename columns to conform with Database**"
   ]
  },
  {
   "cell_type": "code",
   "execution_count": null,
   "metadata": {
    "id": "p_CKNiGkrNWp"
   },
   "outputs": [],
   "source": [
    "price_transformed.columns = ['Date', 'Fact', 'Fact_Type','Source']\n",
    "active_addresses.columns = ['Date', 'Fact', 'Fact_Type','Source']\n",
    "addresses_bal_less.columns = ['Date', 'Fact', 'Fact_Type','Source']\n",
    "ex_net_flow_vol.columns = ['Date', 'Fact', 'Fact_Type','Source']\n",
    "hash_rate.columns = ['Date', 'Fact', 'Fact_Type','Source']\n",
    "market_cap.columns = ['Date', 'Fact', 'Fact_Type','Source']\n",
    "new_addresses.columns = ['Date', 'Fact', 'Fact_Type','Source']\n",
    "transaction_count.columns = ['Date', 'Fact', 'Fact_Type','Source']\n",
    "transaction_rate.columns = ['Date', 'Fact', 'Fact_Type','Source']\n",
    "transfer_vol_total.columns = ['Date', 'Fact', 'Fact_Type','Source']"
   ]
  },
  {
   "cell_type": "markdown",
   "metadata": {
    "id": "7RVn0jOZ2E1J"
   },
   "source": [
    "**Export all for use in Database**"
   ]
  },
  {
   "cell_type": "code",
   "execution_count": null,
   "metadata": {
    "id": "drq-tt6P2E1L"
   },
   "outputs": [],
   "source": [
    "price_transformed.to_csv('/content/output/price_transformed.csv', index=False)\n",
    "active_addresses.to_csv('/content/output/active_addresses.csv', index=False)\n",
    "addresses_bal_less.to_csv('/content/output/addresses_bal_less.csv', index=False)\n",
    "ex_net_flow_vol.to_csv('/content/output/ex_net_flow_vol.csv', index=False)\n",
    "hash_rate.to_csv('/content/output/hash_rate.csv', index=False)\n",
    "market_cap.to_csv('/content/output/market_cap.csv', index=False)\n",
    "new_addresses.to_csv('/content/output/new_addresses.csv', index=False)\n",
    "transaction_count.to_csv('/content/output/transaction_count.csv', index=False)\n",
    "transaction_rate.to_csv('/content/output/transaction_rate.csv', index=False)\n",
    "transfer_vol_total.to_csv('/content/output/transfer_vol_total.csv', index=False)"
   ]
  },
  {
   "cell_type": "markdown",
   "metadata": {
    "id": "tlVjngOrimLc"
   },
   "source": [
    "## **Connect to Database**"
   ]
  },
  {
   "cell_type": "code",
   "execution_count": null,
   "metadata": {
    "id": "Ti4jx80rrQEr"
   },
   "outputs": [],
   "source": [
    "# gcloud login and check the DB\n",
    "!gcloud auth login\n",
    "!gcloud config set project dsp-at2-group-project\n",
    "!gcloud sql instances describe dsp-at2-group-postgress-database"
   ]
  },
  {
   "cell_type": "code",
   "execution_count": null,
   "metadata": {
    "id": "SZk_AnCvcsIN"
   },
   "outputs": [],
   "source": [
    "# download and initialize the psql proxy\n",
    "!wget https://dl.google.com/cloudsql/cloud_sql_proxy.linux.amd64 -O cloud_sql_proxy\n",
    "!chmod +x cloud_sql_proxy\n",
    "!nohup ./cloud_sql_proxy -instances=\"dsp-at2-group-project:asia-southeast1:dsp-at2-group-postgress-database\"=tcp:5432 &\n",
    "!sleep 30s"
   ]
  },
  {
   "cell_type": "code",
   "execution_count": null,
   "metadata": {
    "id": "RTYmlK06dqrO"
   },
   "outputs": [],
   "source": [
    "conn = psycopg2.connect(\n",
    "    host='127.0.0.1', port='5432', database='bitcoincloud',\n",
    "    user='postgres', password='Andermatt1')"
   ]
  },
  {
   "cell_type": "code",
   "execution_count": null,
   "metadata": {
    "id": "uHBZLkIXgnKd"
   },
   "outputs": [],
   "source": [
    "qry = \"select count(*) from Bitcoin_Fact;\"\n",
    "df = pd.read_sql_query(qry, conn)"
   ]
  },
  {
   "cell_type": "markdown",
   "metadata": {
    "id": "IY8na0mB0b--"
   },
   "source": [
    "# **Query Database**"
   ]
  },
  {
   "cell_type": "code",
   "execution_count": null,
   "metadata": {
    "id": "YeOwo8aAlw0j"
   },
   "outputs": [],
   "source": [
    "qry = \"select fact_type, source, count(*) from Bitcoin_Fact group by fact_type, source;\"\n",
    "df = pd.read_sql_query(qry, conn)"
   ]
  },
  {
   "cell_type": "code",
   "execution_count": null,
   "metadata": {
    "id": "4bG5QbykoAtQ"
   },
   "outputs": [],
   "source": [
    "df"
   ]
  }
 ],
 "metadata": {
  "colab": {
   "collapsed_sections": [],
   "machine_shape": "hm",
   "name": "DSP_AT2_Group_Data_Analysis_Test.ipynb",
   "provenance": [],
   "toc_visible": true
  },
  "kernelspec": {
   "display_name": "Python 3",
   "language": "python",
   "name": "python3"
  },
  "language_info": {
   "codemirror_mode": {
    "name": "ipython",
    "version": 3
   },
   "file_extension": ".py",
   "mimetype": "text/x-python",
   "name": "python",
   "nbconvert_exporter": "python",
   "pygments_lexer": "ipython3",
   "version": "3.8.3"
  },
  "toc-autonumbering": true,
  "toc-showmarkdowntxt": false,
  "toc-showtags": false
 },
 "nbformat": 4,
 "nbformat_minor": 1
}
