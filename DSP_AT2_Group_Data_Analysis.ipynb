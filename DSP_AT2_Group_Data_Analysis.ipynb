{
  "nbformat": 4,
  "nbformat_minor": 0,
  "metadata": {
    "kernelspec": {
      "display_name": "Python 3",
      "language": "python",
      "name": "python3"
    },
    "language_info": {
      "codemirror_mode": {
        "name": "ipython",
        "version": 3
      },
      "file_extension": ".py",
      "mimetype": "text/x-python",
      "name": "python",
      "nbconvert_exporter": "python",
      "pygments_lexer": "ipython3",
      "version": "3.7.6"
    },
    "toc-autonumbering": true,
    "toc-showmarkdowntxt": false,
    "toc-showtags": false,
    "colab": {
      "name": "DSP_AT2_Group_Data_Analysis_Test.ipynb",
      "provenance": [],
      "collapsed_sections": [],
      "toc_visible": true,
      "machine_shape": "hm"
    }
  },
  "cells": [
    {
      "cell_type": "markdown",
      "metadata": {
        "id": "FYk_6cYHg6az"
      },
      "source": [
        "#**DSP AT2 Centralized Code Repositories + Github Usage Analysis + Reflection**\n",
        "\n"
      ]
    },
    {
      "cell_type": "markdown",
      "metadata": {
        "id": "DOWJVxfeQzmz"
      },
      "source": [
        "## **Preprocessing**"
      ]
    },
    {
      "cell_type": "markdown",
      "metadata": {
        "id": "RYEnR_Scii7m"
      },
      "source": [
        "### **Load Packages**"
      ]
    },
    {
      "cell_type": "code",
      "metadata": {
        "id": "iUWHLHp72zdM"
      },
      "source": [
        "# Data packages\n",
        "import pandas as pd      \n",
        "import numpy as np  \n",
        "import matplotlib.pyplot as plt\n",
        "import os\n",
        "import psycopg2\n",
        "import sqlalchemy"
      ],
      "execution_count": null,
      "outputs": []
    },
    {
      "cell_type": "markdown",
      "metadata": {
        "id": "62p2PXNrnE0S"
      },
      "source": [
        "### **Get raw data**"
      ]
    },
    {
      "cell_type": "code",
      "metadata": {
        "id": "5ks5r03lhz14"
      },
      "source": [
        "# Create data directory\n",
        "if not os.path.exists('/content/kaggle'):\n",
        "    os.makedirs('/content/kaggle')\n",
        "\n",
        "if not os.path.exists('/content/output'):\n",
        "    os.makedirs('/content/output')\n",
        "    \n",
        "# Download data from Kaggle API, unzip and place in data directory\n",
        "os.environ['KAGGLE_USERNAME'] = \"kallikrates\"\n",
        "os.environ['KAGGLE_KEY'] = \"98fa396dc991259766a1529a2e4001ac\"\n",
        "!kaggle datasets download -d kallikrates/dsp-at2-bitcoin-dataset\n",
        "!unzip -q dsp-at2-bitcoin-dataset.zip -d /content/kaggle"
      ],
      "execution_count": null,
      "outputs": []
    }
  ]
}